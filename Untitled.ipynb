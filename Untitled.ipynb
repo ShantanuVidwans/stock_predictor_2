{
 "cells": [
  {
   "cell_type": "code",
   "execution_count": null,
   "metadata": {},
   "outputs": [],
   "source": [
    "from tkinter import *\n",
    "from tkinter import filedialog\n",
    "from tkinter.ttk import *\n",
    "import numpy as np\n",
    "import matplotlib.pyplot as plt\n",
    "import pandas as pd\n",
    "from keras.models import Sequential\n",
    "from keras.layers import Dense\n",
    "from keras.layers import LSTM\n",
    "from keras.layers import Dropout\n",
    "from sklearn.preprocessing import MinMaxScaler\n",
    "from keras.models import load_model\n",
    "from matplotlib import figure"
   ]
  },
  {
   "cell_type": "code",
   "execution_count": 4,
   "metadata": {},
   "outputs": [],
   "source": [
    "regressor = load_model('model.h5')"
   ]
  },
  {
   "cell_type": "code",
   "execution_count": 141,
   "metadata": {},
   "outputs": [],
   "source": []
  },
  {
   "cell_type": "code",
   "execution_count": 166,
   "metadata": {},
   "outputs": [],
   "source": [
    "#static\n",
    "regressor = load_model('model.h5')\n",
    "entry_index_value = \"Close Price\"\n",
    "time_scaler = 50\n",
    "result=[0.0]*time_scaler\n",
    "dataset_train = pd.read_csv('axis2.csv')\n",
    "var1 = int(list(dataset_train.columns.values).index(str(entry_index_value)))\n",
    "training_set = dataset_train.iloc[:, var1:var1 + 1].values\n",
    "from sklearn.preprocessing import MinMaxScaler\n",
    "sc = MinMaxScaler(feature_range = (0, 1))\n",
    "training_set_scaled = sc.fit_transform(training_set)\n",
    "var2 = int(list(dataset_train.columns.values).index(str(entry_index_value)))\n",
    "stock_price = dataset_train.iloc[:len(dataset_train) - time_scaler, var2:var2 + 1].values\n",
    "stock_price = stock_price.reshape(-1, 1)\n",
    "stock_price = sc.transform(stock_price)\n",
    "arr=[]\n",
    "X_test =[]\n",
    "for i in range(len(stock_price)-time_scaler,len(stock_price)):\n",
    "    arr.append(stock_price[i:len(stock_price),0]) \n",
    "arr =pd.DataFrame(arr)\n",
    "arr = arr.fillna(0)\n",
    "arr = np.array(arr)"
   ]
  },
  {
   "cell_type": "code",
   "execution_count": 138,
   "metadata": {},
   "outputs": [],
   "source": [
    "dataset_train = pd.read_csv(\"axis2.csv\")\n",
    "var2 = int(list(dataset_train.columns.values).index(str(entry_index_value)))\n",
    "stock_price = dataset_train.iloc[:len(dataset_train) - time_scaler, var2:var2 + 1].values\n",
    "stock_price = stock_price.reshape(-1, 1)\n",
    "stock_price = sc.transform(stock_price)\n",
    "arr=[]\n",
    "X_test =[]\n",
    "for i in range(len(stock_price)-time_scaler,len(stock_price)):\n",
    "    arr.append(stock_price[i:len(stock_price),0]) \n",
    "arr =pd.DataFrame(arr)\n",
    "arr = arr.fillna(0)\n",
    "arr = np.array(arr)"
   ]
  },
  {
   "cell_type": "code",
   "execution_count": 139,
   "metadata": {},
   "outputs": [],
   "source": [
    "X_test = arr\n",
    "X_test = np.reshape(X_test, (X_test.shape[0], X_test.shape[1], 1))"
   ]
  },
  {
   "cell_type": "code",
   "execution_count": 142,
   "metadata": {},
   "outputs": [],
   "source": [
    "predicted_stock_price = regressor.predict(X_test)\n",
    "predicted_stock_price = sc.inverse_transform(predicted_stock_price)\n",
    "result[0] = predicted_stock_price[0][0]"
   ]
  },
  {
   "cell_type": "code",
   "execution_count": 163,
   "metadata": {},
   "outputs": [],
   "source": [
    " arr[1][49]= result[0]"
   ]
  },
  {
   "cell_type": "code",
   "execution_count": 171,
   "metadata": {},
   "outputs": [],
   "source": [
    "#Final\n",
    "for y in range(0,time_scaler-1):\n",
    "    X_test = arr\n",
    "    X_test = np.reshape(X_test, (X_test.shape[0], X_test.shape[1], 1))\n",
    "    predicted_stock_price = regressor.predict(X_test)\n",
    "    predicted_stock_price = sc.inverse_transform(predicted_stock_price)\n",
    "    arr[y + 1][49 - y] = predicted_stock_price[0][0]"
   ]
  },
  {
   "cell_type": "code",
   "execution_count": 173,
   "metadata": {},
   "outputs": [
    {
     "data": {
      "text/plain": [
       "[<matplotlib.lines.Line2D at 0x22c5283e240>]"
      ]
     },
     "execution_count": 173,
     "metadata": {},
     "output_type": "execute_result"
    },
    {
     "data": {
      "image/png": "[encoded data removed]",
      "text/plain": [
       "<Figure size 432x288 with 1 Axes>"
      ]
     },
     "metadata": {
      "needs_background": "light"
     },
     "output_type": "display_data"
    }
   ],
   "source": [
    "plt.plot(predicted_stock_price)"
   ]
  },
  {
   "cell_type": "code",
   "execution_count": null,
   "metadata": {},
   "outputs": [],
   "source": []
  }
 ],
 "metadata": {
  "kernelspec": {
   "display_name": "Python 3",
   "language": "python",
   "name": "python3"
  },
  "language_info": {
   "codemirror_mode": {
    "name": "ipython",
    "version": 3
   },
   "file_extension": ".py",
   "mimetype": "text/x-python",
   "name": "python",
   "nbconvert_exporter": "python",
   "pygments_lexer": "ipython3",
   "version": "3.6.8"
  }
 },
 "nbformat": 4,
 "nbformat_minor": 2
}
